{
 "cells": [
  {
   "cell_type": "code",
   "execution_count": 15,
   "metadata": {},
   "outputs": [],
   "source": [
    "import pandas as pd\n",
    "import numpy as np\n"
   ]
  },
  {
   "cell_type": "code",
   "execution_count": 16,
   "metadata": {},
   "outputs": [],
   "source": [
    "# schedulled, cancelled meetings\n",
    "\n",
    "# distinct participants\n",
    "\n",
    "  #break down by program (major)\n",
    "  #break down by admit term\n",
    "  #break down by campus\n",
    "  # break down by services\n",
    "  # Staff organizer name\n",
    "f = pd.read_excel('/Users/justinlee/Desktop/cpa/mar.xls')\n"
   ]
  },
  {
   "cell_type": "code",
   "execution_count": 17,
   "metadata": {},
   "outputs": [
    {
     "name": "stdout",
     "output_type": "stream",
     "text": [
      "Index(['Student Name', 'Student E-mail', 'Student ID', 'Admit Term',\n",
      "       'Classification', 'Major', 'Assigned Staff', 'Student Campus',\n",
      "       'Cross Campus', 'Had Appointment?', 'Care Unit', 'Scheduled Services',\n",
      "       'Appointment Type', 'Scheduled Date', 'Scheduled Start Time',\n",
      "       'Scheduled End Time', 'Scheduled Duration (In Min)',\n",
      "       'Appointment Created By', 'Appointment Comment', 'Staff Organizer Name',\n",
      "       'CPA Campus', 'Staff Organizer Email', 'Check In Date', 'Cancelled?',\n",
      "       'Cancellation Reason', 'Cancellation Comment', 'Cancelled By',\n",
      "       'Late Cancel No Show?', 'Appointment Summary No Show?',\n",
      "       'Summary Report Filed?', 'Date Summary Report Submitted'],\n",
      "      dtype='object')\n",
      "3875\n"
     ]
    }
   ],
   "source": [
    "print(f.columns)\n",
    "print(f.size)\n",
    "\n"
   ]
  },
  {
   "cell_type": "code",
   "execution_count": 21,
   "metadata": {},
   "outputs": [
    {
     "data": {
      "text/plain": [
       "125"
      ]
     },
     "execution_count": 21,
     "metadata": {},
     "output_type": "execute_result"
    }
   ],
   "source": [
    "f['Scheduled Services'].count()"
   ]
  },
  {
   "cell_type": "code",
   "execution_count": 38,
   "metadata": {},
   "outputs": [
    {
     "data": {
      "text/plain": [
       "0.192"
      ]
     },
     "execution_count": 38,
     "metadata": {},
     "output_type": "execute_result"
    }
   ],
   "source": [
    "# is cancelled: 'Yes', 'No'\n",
    "hasCancelledPercentage = f['Cancelled?'].value_counts()['Yes'] / f['Cancelled?'].count()\n"
   ]
  },
  {
   "cell_type": "code",
   "execution_count": 20,
   "metadata": {},
   "outputs": [
    {
     "data": {
      "text/plain": [
       "57"
      ]
     },
     "execution_count": 20,
     "metadata": {},
     "output_type": "execute_result"
    }
   ],
   "source": [
    "# unique\n",
    "len(f['Student Name'].unique())\n",
    "# pd.value_counts(f['Student Name'])"
   ]
  },
  {
   "cell_type": "code",
   "execution_count": 41,
   "metadata": {},
   "outputs": [],
   "source": [
    "notCancelled = f[f['Cancelled?'] == 'No']\n"
   ]
  },
  {
   "cell_type": "code",
   "execution_count": 50,
   "metadata": {},
   "outputs": [
    {
     "name": "stdout",
     "output_type": "stream",
     "text": [
      "Spring 2021 Semester     3\n",
      "Fall 2019 Semester       6\n",
      "Spring 2020 Semester     7\n",
      "Spring 2022 Semester    12\n",
      "Fall 2020 Semester      21\n",
      "Fall 2021 Semester      52\n",
      "Name: Admit Term, dtype: int64\n",
      "Portland           4\n",
      "Silicon Valley    12\n",
      "Seattle           23\n",
      "Boston            28\n",
      "Vancouver         34\n",
      "Name: Student Campus, dtype: int64\n",
      "Mock Interview - Behavioral     13\n",
      "Resume Review                   24\n",
      "Co-op & Internship Questions    31\n",
      "Mock Interview - Technical      33\n",
      "Name: Scheduled Services, dtype: int64\n",
      "Eyaru, Joshua         4\n",
      "Raithatha, Devina     5\n",
      "Chen, Jialun         11\n",
      "Gao, Xiuwen          19\n",
      "Liu, Lu              30\n",
      "Zhou, Zhenjie        32\n",
      "Name: Staff Organizer Name, dtype: int64\n"
     ]
    }
   ],
   "source": [
    "#break down by admit term\n",
    "print(notCancelled['Admit Term'].value_counts().sort_values())\n",
    "\n",
    "#break down by campus\n",
    "print(notCancelled['Student Campus'].value_counts().sort_values())\n",
    "\n",
    "# break down by services\n",
    "print(notCancelled['Scheduled Services'].value_counts().sort_values())\n",
    "\n",
    "# Staff organizer name\n",
    "print(notCancelled['Staff Organizer Name'].value_counts().sort_values())\n"
   ]
  },
  {
   "cell_type": "code",
   "execution_count": 24,
   "metadata": {},
   "outputs": [
    {
     "data": {
      "text/html": [
       "<div>\n",
       "<style scoped>\n",
       "    .dataframe tbody tr th:only-of-type {\n",
       "        vertical-align: middle;\n",
       "    }\n",
       "\n",
       "    .dataframe tbody tr th {\n",
       "        vertical-align: top;\n",
       "    }\n",
       "\n",
       "    .dataframe thead th {\n",
       "        text-align: right;\n",
       "    }\n",
       "</style>\n",
       "<table border=\"1\" class=\"dataframe\">\n",
       "  <thead>\n",
       "    <tr style=\"text-align: right;\">\n",
       "      <th>Scheduled Services</th>\n",
       "      <th>Co-op &amp; Internship Questions</th>\n",
       "      <th>Mock Interview - Behavioral</th>\n",
       "      <th>Mock Interview - Technical</th>\n",
       "      <th>Resume Review</th>\n",
       "    </tr>\n",
       "    <tr>\n",
       "      <th>Student Campus</th>\n",
       "      <th></th>\n",
       "      <th></th>\n",
       "      <th></th>\n",
       "      <th></th>\n",
       "    </tr>\n",
       "  </thead>\n",
       "  <tbody>\n",
       "    <tr>\n",
       "      <th>Boston</th>\n",
       "      <td>5</td>\n",
       "      <td>6</td>\n",
       "      <td>19</td>\n",
       "      <td>6</td>\n",
       "    </tr>\n",
       "    <tr>\n",
       "      <th>Portland</th>\n",
       "      <td>5</td>\n",
       "      <td>0</td>\n",
       "      <td>0</td>\n",
       "      <td>0</td>\n",
       "    </tr>\n",
       "    <tr>\n",
       "      <th>Seattle</th>\n",
       "      <td>8</td>\n",
       "      <td>2</td>\n",
       "      <td>10</td>\n",
       "      <td>8</td>\n",
       "    </tr>\n",
       "    <tr>\n",
       "      <th>Silicon Valley</th>\n",
       "      <td>6</td>\n",
       "      <td>2</td>\n",
       "      <td>7</td>\n",
       "      <td>2</td>\n",
       "    </tr>\n",
       "    <tr>\n",
       "      <th>Vancouver</th>\n",
       "      <td>13</td>\n",
       "      <td>7</td>\n",
       "      <td>4</td>\n",
       "      <td>15</td>\n",
       "    </tr>\n",
       "  </tbody>\n",
       "</table>\n",
       "</div>"
      ],
      "text/plain": [
       "Scheduled Services  Co-op & Internship Questions  Mock Interview - Behavioral  \\\n",
       "Student Campus                                                                  \n",
       "Boston                                         5                            6   \n",
       "Portland                                       5                            0   \n",
       "Seattle                                        8                            2   \n",
       "Silicon Valley                                 6                            2   \n",
       "Vancouver                                     13                            7   \n",
       "\n",
       "Scheduled Services  Mock Interview - Technical  Resume Review  \n",
       "Student Campus                                                 \n",
       "Boston                                      19              6  \n",
       "Portland                                     0              0  \n",
       "Seattle                                     10              8  \n",
       "Silicon Valley                               7              2  \n",
       "Vancouver                                    4             15  "
      ]
     },
     "execution_count": 24,
     "metadata": {},
     "output_type": "execute_result"
    }
   ],
   "source": [
    "ct = pd.crosstab(f['Student Campus'],f['Scheduled Services'])\n",
    "ct"
   ]
  },
  {
   "cell_type": "code",
   "execution_count": 30,
   "metadata": {},
   "outputs": [
    {
     "data": {
      "text/html": [
       "<div>\n",
       "<style scoped>\n",
       "    .dataframe tbody tr th:only-of-type {\n",
       "        vertical-align: middle;\n",
       "    }\n",
       "\n",
       "    .dataframe tbody tr th {\n",
       "        vertical-align: top;\n",
       "    }\n",
       "\n",
       "    .dataframe thead th {\n",
       "        text-align: right;\n",
       "    }\n",
       "</style>\n",
       "<table border=\"1\" class=\"dataframe\">\n",
       "  <thead>\n",
       "    <tr style=\"text-align: right;\">\n",
       "      <th>Scheduled Services</th>\n",
       "      <th>Co-op &amp; Internship Questions</th>\n",
       "      <th>Mock Interview - Behavioral</th>\n",
       "      <th>Mock Interview - Technical</th>\n",
       "      <th>Resume Review</th>\n",
       "    </tr>\n",
       "    <tr>\n",
       "      <th>Student Campus</th>\n",
       "      <th></th>\n",
       "      <th></th>\n",
       "      <th></th>\n",
       "      <th></th>\n",
       "    </tr>\n",
       "  </thead>\n",
       "  <tbody>\n",
       "    <tr>\n",
       "      <th>Portland</th>\n",
       "      <td>5</td>\n",
       "      <td>0</td>\n",
       "      <td>0</td>\n",
       "      <td>0</td>\n",
       "    </tr>\n",
       "  </tbody>\n",
       "</table>\n",
       "</div>"
      ],
      "text/plain": [
       "Scheduled Services  Co-op & Internship Questions  Mock Interview - Behavioral  \\\n",
       "Student Campus                                                                  \n",
       "Portland                                       5                            0   \n",
       "\n",
       "Scheduled Services  Mock Interview - Technical  Resume Review  \n",
       "Student Campus                                                 \n",
       "Portland                                     0              0  "
      ]
     },
     "execution_count": 30,
     "metadata": {},
     "output_type": "execute_result"
    }
   ],
   "source": [
    "# ct.iloc[[1],:]"
   ]
  }
 ],
 "metadata": {
  "kernelspec": {
   "display_name": "base",
   "language": "python",
   "name": "python3"
  },
  "language_info": {
   "codemirror_mode": {
    "name": "ipython",
    "version": 3
   },
   "file_extension": ".py",
   "mimetype": "text/x-python",
   "name": "python",
   "nbconvert_exporter": "python",
   "pygments_lexer": "ipython3",
   "version": "3.9.13"
  },
  "orig_nbformat": 4
 },
 "nbformat": 4,
 "nbformat_minor": 2
}
